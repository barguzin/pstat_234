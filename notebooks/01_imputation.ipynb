{
 "cells": [
  {
   "cell_type": "code",
   "execution_count": 6,
   "id": "japanese-executive",
   "metadata": {},
   "outputs": [],
   "source": [
    "import pandas as pd \n",
    "import os\n",
    "from pathlib import Path"
   ]
  },
  {
   "cell_type": "code",
   "execution_count": 8,
   "id": "minor-blade",
   "metadata": {},
   "outputs": [
    {
     "data": {
      "text/plain": [
       "WindowsPath('C:/Users/noibar/YandexDisk/ucsb/ucsb_spring2021/234_pstat/notebooks')"
      ]
     },
     "execution_count": 8,
     "metadata": {},
     "output_type": "execute_result"
    }
   ],
   "source": [
    "Path(os.getcwd())"
   ]
  },
  {
   "cell_type": "code",
   "execution_count": 9,
   "id": "cubic-working",
   "metadata": {},
   "outputs": [],
   "source": [
    "os.chdir(\"..\")"
   ]
  },
  {
   "cell_type": "code",
   "execution_count": 10,
   "id": "ranking-occurrence",
   "metadata": {},
   "outputs": [
    {
     "data": {
      "text/plain": [
       "WindowsPath('C:/Users/noibar/YandexDisk/ucsb/ucsb_spring2021/234_pstat')"
      ]
     },
     "execution_count": 10,
     "metadata": {},
     "output_type": "execute_result"
    }
   ],
   "source": [
    "#Path.home()\n",
    "Path(os.getcwd())"
   ]
  },
  {
   "cell_type": "code",
   "execution_count": 11,
   "id": "armed-plain",
   "metadata": {},
   "outputs": [],
   "source": [
    "df = pd.read_csv('data/mobility_subset.zip', compression='zip')"
   ]
  },
  {
   "cell_type": "code",
   "execution_count": 13,
   "id": "grateful-party",
   "metadata": {},
   "outputs": [
    {
     "name": "stdout",
     "output_type": "stream",
     "text": [
      "(1212040, 19)\n"
     ]
    },
    {
     "data": {
      "text/html": [
       "<div>\n",
       "<style scoped>\n",
       "    .dataframe tbody tr th:only-of-type {\n",
       "        vertical-align: middle;\n",
       "    }\n",
       "\n",
       "    .dataframe tbody tr th {\n",
       "        vertical-align: top;\n",
       "    }\n",
       "\n",
       "    .dataframe thead th {\n",
       "        text-align: right;\n",
       "    }\n",
       "</style>\n",
       "<table border=\"1\" class=\"dataframe\">\n",
       "  <thead>\n",
       "    <tr style=\"text-align: right;\">\n",
       "      <th></th>\n",
       "      <th>fips</th>\n",
       "      <th>ds_m4</th>\n",
       "      <th>all_day_ratio_single_tile_users</th>\n",
       "      <th>m50</th>\n",
       "      <th>cases</th>\n",
       "      <th>deaths</th>\n",
       "      <th>apple_mobility</th>\n",
       "      <th>miles_per_person_umd</th>\n",
       "      <th>staying_home_umd</th>\n",
       "      <th>pop</th>\n",
       "      <th>over60</th>\n",
       "      <th>med_income</th>\n",
       "      <th>afram</th>\n",
       "      <th>hispar</th>\n",
       "      <th>male</th>\n",
       "      <th>pop_density</th>\n",
       "      <th>cov_death_rate</th>\n",
       "      <th>sg_sheltered</th>\n",
       "      <th>sg_avg_dist2</th>\n",
       "    </tr>\n",
       "  </thead>\n",
       "  <tbody>\n",
       "    <tr>\n",
       "      <th>0</th>\n",
       "      <td>45035</td>\n",
       "      <td>2020-01-01</td>\n",
       "      <td>NaN</td>\n",
       "      <td>NaN</td>\n",
       "      <td>NaN</td>\n",
       "      <td>NaN</td>\n",
       "      <td>NaN</td>\n",
       "      <td>24.1</td>\n",
       "      <td>31.0</td>\n",
       "      <td>160647.0</td>\n",
       "      <td>19.0</td>\n",
       "      <td>61698.0</td>\n",
       "      <td>25.0</td>\n",
       "      <td>5.2</td>\n",
       "      <td>48.65</td>\n",
       "      <td>270.0</td>\n",
       "      <td>0.0</td>\n",
       "      <td>0.319371</td>\n",
       "      <td>11066.255084</td>\n",
       "    </tr>\n",
       "    <tr>\n",
       "      <th>1</th>\n",
       "      <td>45035</td>\n",
       "      <td>2020-01-02</td>\n",
       "      <td>NaN</td>\n",
       "      <td>NaN</td>\n",
       "      <td>NaN</td>\n",
       "      <td>NaN</td>\n",
       "      <td>NaN</td>\n",
       "      <td>35.3</td>\n",
       "      <td>18.0</td>\n",
       "      <td>160647.0</td>\n",
       "      <td>19.0</td>\n",
       "      <td>61698.0</td>\n",
       "      <td>25.0</td>\n",
       "      <td>5.2</td>\n",
       "      <td>48.65</td>\n",
       "      <td>270.0</td>\n",
       "      <td>0.0</td>\n",
       "      <td>0.257536</td>\n",
       "      <td>13048.934918</td>\n",
       "    </tr>\n",
       "    <tr>\n",
       "      <th>2</th>\n",
       "      <td>45035</td>\n",
       "      <td>2020-01-03</td>\n",
       "      <td>NaN</td>\n",
       "      <td>NaN</td>\n",
       "      <td>NaN</td>\n",
       "      <td>NaN</td>\n",
       "      <td>NaN</td>\n",
       "      <td>34.8</td>\n",
       "      <td>17.0</td>\n",
       "      <td>160647.0</td>\n",
       "      <td>19.0</td>\n",
       "      <td>61698.0</td>\n",
       "      <td>25.0</td>\n",
       "      <td>5.2</td>\n",
       "      <td>48.65</td>\n",
       "      <td>270.0</td>\n",
       "      <td>0.0</td>\n",
       "      <td>0.246068</td>\n",
       "      <td>13383.727687</td>\n",
       "    </tr>\n",
       "    <tr>\n",
       "      <th>3</th>\n",
       "      <td>45035</td>\n",
       "      <td>2020-01-04</td>\n",
       "      <td>NaN</td>\n",
       "      <td>NaN</td>\n",
       "      <td>NaN</td>\n",
       "      <td>NaN</td>\n",
       "      <td>NaN</td>\n",
       "      <td>32.8</td>\n",
       "      <td>23.0</td>\n",
       "      <td>160647.0</td>\n",
       "      <td>19.0</td>\n",
       "      <td>61698.0</td>\n",
       "      <td>25.0</td>\n",
       "      <td>5.2</td>\n",
       "      <td>48.65</td>\n",
       "      <td>270.0</td>\n",
       "      <td>0.0</td>\n",
       "      <td>0.281261</td>\n",
       "      <td>11845.334563</td>\n",
       "    </tr>\n",
       "    <tr>\n",
       "      <th>4</th>\n",
       "      <td>45035</td>\n",
       "      <td>2020-01-05</td>\n",
       "      <td>NaN</td>\n",
       "      <td>NaN</td>\n",
       "      <td>NaN</td>\n",
       "      <td>NaN</td>\n",
       "      <td>NaN</td>\n",
       "      <td>34.2</td>\n",
       "      <td>28.0</td>\n",
       "      <td>160647.0</td>\n",
       "      <td>19.0</td>\n",
       "      <td>61698.0</td>\n",
       "      <td>25.0</td>\n",
       "      <td>5.2</td>\n",
       "      <td>48.65</td>\n",
       "      <td>270.0</td>\n",
       "      <td>0.0</td>\n",
       "      <td>0.312370</td>\n",
       "      <td>9796.491319</td>\n",
       "    </tr>\n",
       "  </tbody>\n",
       "</table>\n",
       "</div>"
      ],
      "text/plain": [
       "    fips       ds_m4  all_day_ratio_single_tile_users  m50  cases  deaths  \\\n",
       "0  45035  2020-01-01                              NaN  NaN    NaN     NaN   \n",
       "1  45035  2020-01-02                              NaN  NaN    NaN     NaN   \n",
       "2  45035  2020-01-03                              NaN  NaN    NaN     NaN   \n",
       "3  45035  2020-01-04                              NaN  NaN    NaN     NaN   \n",
       "4  45035  2020-01-05                              NaN  NaN    NaN     NaN   \n",
       "\n",
       "   apple_mobility  miles_per_person_umd  staying_home_umd       pop  over60  \\\n",
       "0             NaN                  24.1              31.0  160647.0    19.0   \n",
       "1             NaN                  35.3              18.0  160647.0    19.0   \n",
       "2             NaN                  34.8              17.0  160647.0    19.0   \n",
       "3             NaN                  32.8              23.0  160647.0    19.0   \n",
       "4             NaN                  34.2              28.0  160647.0    19.0   \n",
       "\n",
       "   med_income  afram  hispar   male  pop_density  cov_death_rate  \\\n",
       "0     61698.0   25.0     5.2  48.65        270.0             0.0   \n",
       "1     61698.0   25.0     5.2  48.65        270.0             0.0   \n",
       "2     61698.0   25.0     5.2  48.65        270.0             0.0   \n",
       "3     61698.0   25.0     5.2  48.65        270.0             0.0   \n",
       "4     61698.0   25.0     5.2  48.65        270.0             0.0   \n",
       "\n",
       "   sg_sheltered  sg_avg_dist2  \n",
       "0      0.319371  11066.255084  \n",
       "1      0.257536  13048.934918  \n",
       "2      0.246068  13383.727687  \n",
       "3      0.281261  11845.334563  \n",
       "4      0.312370   9796.491319  "
      ]
     },
     "execution_count": 13,
     "metadata": {},
     "output_type": "execute_result"
    }
   ],
   "source": [
    "print(df.shape) \n",
    "df.head()"
   ]
  },
  {
   "cell_type": "code",
   "execution_count": null,
   "id": "micro-hydrogen",
   "metadata": {},
   "outputs": [],
   "source": []
  }
 ],
 "metadata": {
  "kernelspec": {
   "display_name": "Python 3",
   "language": "python",
   "name": "python3"
  },
  "language_info": {
   "codemirror_mode": {
    "name": "ipython",
    "version": 3
   },
   "file_extension": ".py",
   "mimetype": "text/x-python",
   "name": "python",
   "nbconvert_exporter": "python",
   "pygments_lexer": "ipython3",
   "version": "3.7.6"
  }
 },
 "nbformat": 4,
 "nbformat_minor": 5
}
